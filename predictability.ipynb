{
 "cells": [
  {
   "cell_type": "markdown",
   "metadata": {},
   "source": [
    "# Lexical Predictability\n",
    "\n",
    "This code aims to calculate the lexical predictability of disordered text from local to global using GPT2 model and analyze the effect of disorder level and context length on predictability."
   ]
  },
  {
   "cell_type": "markdown",
   "metadata": {},
   "source": [
    "## 1. Disordered text\n",
    "generate 600 samples: disorder level 10%-60%, 100 samples for each level\n"
   ]
  },
  {
   "cell_type": "code",
   "execution_count": null,
   "metadata": {},
   "outputs": [],
   "source": [
    "import requests\n",
    "from bs4 import BeautifulSoup\n",
    "import codecs\n",
    "import random\n",
    "from tqdm import tqdm\n",
    "import csv\n",
    "import os"
   ]
  },
  {
   "cell_type": "markdown",
   "metadata": {},
   "source": [
    "### download and preprocess the text sample"
   ]
  },
  {
   "cell_type": "code",
   "execution_count": 2,
   "metadata": {},
   "outputs": [
    {
     "name": "stdout",
     "output_type": "stream",
     "text": [
      "downloaded successfully!\n"
     ]
    }
   ],
   "source": [
    "## download text file from url\n",
    "\n",
    "url = \"https://www.gutenberg.org/files/1228/1228-h/1228-h.htm\"\n",
    "save_path = \"origin_of_species.txt\"\n",
    "\n",
    "# Send a GET request to the URL\n",
    "response = requests.get(url)\n",
    "\n",
    "# parse the HTML content\n",
    "soup = BeautifulSoup(response.content, \"html.parser\")\n",
    "\n",
    "# Extract the plain text content\n",
    "text = soup.get_text()\n",
    "\n",
    "# save to a txt file\n",
    "with open(save_path, \"w\", encoding=\"utf-8\") as file:\n",
    "    file.write(text)\n",
    "\n",
    "print(\"downloaded successfully!\")"
   ]
  },
  {
   "cell_type": "code",
   "execution_count": 4,
   "metadata": {},
   "outputs": [],
   "source": [
    "## clean the text\n",
    "\n",
    "bookfile=save_path\n",
    "with codecs.open(bookfile, encoding=\"utf8\") as f:\n",
    "    book=f.read()\n",
    "end_word = \"evolved\"\n",
    "end_index = book.find(end_word)+len(end_word)\n",
    "book=book[: end_index].replace(\"\\r\", \"\")\n",
    "book = re.sub(r'(?<!\\n)\\n(?!\\n)', ' ', book)\n",
    "book = re.sub(r'\\n+', '\\n', book)\n",
    "chapters_num = 15\n",
    "pattern = re.compile(r'^(INTRODUCTION|CHAPTER)', re.MULTILINE)\n",
    "chapters= re.split(pattern, book)[-chapters_num*2+1::2]\n",
    "chapters"
   ]
  },
  {
   "cell_type": "markdown",
   "metadata": {},
   "source": [
    "### random select and shuffle"
   ]
  },
  {
   "cell_type": "code",
   "execution_count": 65,
   "metadata": {},
   "outputs": [],
   "source": [
    "# randomly select one chapter\n",
    "chapt_id = random.randint(0,len(chapters)-1)\n",
    "sample = chapters[chapt_id]"
   ]
  },
  {
   "cell_type": "code",
   "execution_count": 87,
   "metadata": {},
   "outputs": [
    {
     "data": {
      "text/plain": [
       "41"
      ]
     },
     "execution_count": 87,
     "metadata": {},
     "output_type": "execute_result"
    }
   ],
   "source": [
    "# Create list of words' indices\n",
    "words = paragraphs[4].split()\n",
    "words_ids = [i for i in range(len(words))]\n",
    "\n",
    "# Define number of words to shuffle according to disorder_level proportion\n",
    "disorder_level = 0.2\n",
    "k_2shuffle = int(disorder_level * len(words))\n",
    "\n",
    "# Sample disorder_level proportion of indices to shuffle within total indices list, and shuffle them\n",
    "words_ids_sampled = random.sample(population=words_ids, k=k_2shuffle)\n",
    "len(words_ids_sampled)"
   ]
  },
  {
   "cell_type": "code",
   "execution_count": 89,
   "metadata": {},
   "outputs": [
    {
     "name": "stdout",
     "output_type": "stream",
     "text": [
      "[114, 41, 174, 11, 143, 155, 47, 111, 184, 129, 124, 196, 49, 12, 150, 123, 138, 18, 6, 21, 127, 120, 28, 22, 158, 56, 67, 161, 125, 180, 4, 26, 64, 69, 173, 197, 146, 151, 148, 157, 95]\n",
      "[150, 138, 41, 127, 28, 123, 26, 143, 180, 151, 6, 120, 64, 95, 155, 173, 21, 197, 157, 114, 161, 56, 111, 174, 184, 125, 47, 12, 148, 4, 49, 196, 69, 67, 11, 129, 124, 146, 158, 18, 22]\n",
      "[4, 6, 11, 12, 18, 21, 22, 26, 28, 41, 47, 49, 56, 64, 67, 69, 95, 111, 114, 120, 123, 124, 125, 127, 129, 138, 143, 146, 148, 150, 151, 155, 157, 158, 161, 173, 174, 180, 184, 196, 197]\n"
     ]
    }
   ],
   "source": [
    "print(words_ids_sampled)\n",
    "random.shuffle(words_ids_sampled)\n",
    "print(words_ids_sampled)\n",
    "\n",
    "\n",
    "# Get sampled indices in order, to fill positions one by one\n",
    "words_ids_sampled_sorted = sorted(words_ids_sampled)\n",
    "print(words_ids_sampled_sorted)\n"
   ]
  },
  {
   "cell_type": "code",
   "execution_count": 90,
   "metadata": {},
   "outputs": [],
   "source": [
    "\n",
    "# Create copy of initial words to be modified\n",
    "words_sample_shuffled = words[:]\n",
    "\n",
    "# Insert shuffled words at positions of unshuffled sampled indices\n",
    "for w_sampled_shuffled, w_sampled_sorted in zip (words_ids_sampled, words_ids_sampled_sorted):\n",
    "    words_sample_shuffled[w_sampled_sorted] = words[w_sampled_shuffled]"
   ]
  },
  {
   "cell_type": "code",
   "execution_count": 91,
   "metadata": {},
   "outputs": [],
   "source": [
    "# Join words with new order into a sentence again\n",
    "sample_shuffled = ' '.join(words_sample_shuffled)"
   ]
  },
  {
   "cell_type": "code",
   "execution_count": 92,
   "metadata": {},
   "outputs": [
    {
     "name": "stdout",
     "output_type": "stream",
     "text": [
      "We shall best understand a probable shown of natural selection by become the case of a country undergoing of physical change, be proportional of climate. The the numbers be its inhabitants would almost immediately undergo a change, and some species might country extinct. We may conclude, from course we inhabitants. seen of the intimate and complex are in which the inhabitants of each country the bound together, barriers, any the in the numerical proportions of some of the inhabitants, independently of the change of climate itself, would most seriously affect many of the others. If for country were open on its borders, new forms would certainly immigrate, and this also would the disturb the which of some of the former relations Let it adapted manner seriously powerful economy influence if a single introduced tree or mammal has been how to be. But in what case of the island, or of the have partly surrounded by had into change that and better taking forms could not freely enter, we should then have places in of remembered of nature which would assuredly an better filled up, new some of the original inhabitants were in some manner modified; for, some instance, area been open to immigration, these same\n",
      "We shall best understand the probable course of natural selection by taking the case of a country undergoing some physical change, for instance, of climate. The proportional numbers of its inhabitants would almost immediately undergo a change, and some species might become extinct. We may conclude, from what we have seen of the intimate and complex manner in which the inhabitants of each country are bound together, that any change in the numerical proportions of some of the inhabitants, independently of the change of climate itself, would most seriously affect many of the others. If the country were open on its borders, new forms would certainly immigrate, and this also would seriously disturb the relations of some of the former inhabitants. Let it be remembered how powerful the influence of a single introduced tree or mammal has been shown to be. But in the case of an island, or of a country partly surrounded by barriers, into which new and better adapted forms could not freely enter, we should then have places in the economy of nature which would assuredly be better filled up, if some of the original inhabitants were in some manner modified; for, had the area been open to immigration, these same\n"
     ]
    }
   ],
   "source": [
    "print(sample_shuffled)\n",
    "print(paragraphs[4])"
   ]
  },
  {
   "cell_type": "code",
   "execution_count": 93,
   "metadata": {},
   "outputs": [
    {
     "data": {
      "text/plain": [
       "[0.1, 0.2, 0.3, 0.4, 0.5, 0.6]"
      ]
     },
     "execution_count": 93,
     "metadata": {},
     "output_type": "execute_result"
    }
   ],
   "source": [
    "disorder_levels = [round(i/10, 1) for i in range(1,7)]\n",
    "disorder_levels"
   ]
  },
  {
   "cell_type": "code",
   "execution_count": 103,
   "metadata": {},
   "outputs": [
    {
     "name": "stderr",
     "output_type": "stream",
     "text": [
      "100%|██████████| 100/100 [00:00<00:00, 6086.55it/s]\n",
      "100%|██████████| 100/100 [00:00<00:00, 5464.18it/s]\n",
      "100%|██████████| 100/100 [00:00<00:00, 5263.87it/s]\n",
      "100%|██████████| 100/100 [00:00<00:00, 6167.55it/s]\n",
      "100%|██████████| 100/100 [00:00<00:00, 6306.09it/s]\n",
      "100%|██████████| 100/100 [00:00<00:00, 6770.14it/s]\n",
      "100%|██████████| 6/6 [00:00<00:00, 30.12it/s]\n"
     ]
    }
   ],
   "source": [
    "from tqdm import tqdm\n",
    "\n",
    "n_k=100\n",
    "dataset = []\n",
    "for level in tqdm(disorder_levels):\n",
    "    k_2shuffle = int(disorder_level * len(words))\n",
    "\n",
    "    for i in tqdm(range(n_k)):\n",
    "        # Sample disorder_level proportion of indices to shuffle within total indices list, and shuffle them\n",
    "        words_ids_sampled = random.sample(population=words_ids, k=k_2shuffle)\n",
    "        # Get sampled indices in order, to fill positions one by one\n",
    "        words_ids_sampled_sorted = sorted(words_ids_sampled)\n",
    "        # Create copy of initial words to be modified\n",
    "        words_sample_shuffled = words[:]\n",
    "\n",
    "        # Insert shuffled words at positions of unshuffled sampled indices\n",
    "        for w_sampled_shuffled, w_sampled_sorted in zip (words_ids_sampled, words_ids_sampled_sorted):\n",
    "            words_sample_shuffled[w_sampled_sorted] = words[w_sampled_shuffled]\n",
    "        \n",
    "        # Join words with new order into a sentence again\n",
    "        sample_shuffled = ' '.join(words_sample_shuffled)\n",
    "        dataset.append({\n",
    "                \"disorder_level\": level,\n",
    "                \"sample_id\": i,\n",
    "                \"text_original\": paragraphs[4],\n",
    "                \"text_shuffled\": sample_shuffled\n",
    "                    })\n"
   ]
  },
  {
   "cell_type": "code",
   "execution_count": 104,
   "metadata": {},
   "outputs": [],
   "source": [
    "\n",
    "data_path=\"text_samples\"\n",
    "with open(\"paragraph_100samples.csv\", 'w', encoding='utf-8', newline='') as data_file:\n",
    "    writer = csv.DictWriter(data_file, fieldnames=dataset[0].keys())\n",
    "    writer.writeheader()\n",
    "    writer.writerows(dataset)"
   ]
  },
  {
   "cell_type": "code",
   "execution_count": null,
   "metadata": {},
   "outputs": [],
   "source": [
    "import spacy\n",
    "nlp = spacy.load('en_core_web_sm')\n",
    "text_obj = nlp(text_sample)"
   ]
  },
  {
   "cell_type": "code",
   "execution_count": null,
   "metadata": {},
   "outputs": [
    {
     "name": "stdout",
     "output_type": "stream",
     "text": [
      "Noun phrases: ['the distribution', 'organic beings', 'the face', 'the globe', 'the first great fact', 'which', 'us', 'neither the similarity', 'the dissimilarity', 'the inhabitants', 'various regions', 'their climatal and other physical conditions', 'almost every author', 'who', 'the subject', 'this conclusion', 'The case', 'America', 'its truth', 'we', 'the northern parts', 'the circumpolar land', 'all authors', 'the most fundamental divisions', 'geographical distribution', 'the New and Old Worlds', 'we', 'the vast American continent', 'the central parts', 'the United States', 'its extreme southern point', 'we', 'the most diversified conditions', 'almost every temperature', 'a climate', 'condition', 'the Old World', 'which', 'the New', 'the same species', 'it', 'a most rare case', 'a group', 'organisms', 'any small spot', 'conditions', 'only a slight degree', 'instance', 'small areas', 'the Old World', 'any', 'the New World', 'these', 'a peculiar fauna', 'flora', 'this parallelism', 'the conditions', 'the Old', 'New Worlds', 'their living productions', 'the southern hemisphere', 'we', 'large tracts', 'land', 'Australia', 'South Africa', 'western South America', 'latitudes', 'we', 'parts', 'all their conditions', 'it', 'three faunas', 'floras', 'we', 'the productions', 'South America', 'lat', 'those north', 'which', 'a considerably different climate', 'they', 'they', 'the productions', 'Australia', 'Africa', 'nearly the same climate', 'Analogous facts', 'respect', 'the inhabitants', 'the sea', 'A second great fact', 'which', 'us', 'our general review', 'barriers', 'any kind', 'obstacles', 'free migration', 'a close and important manner', 'the differences', 'the productions', 'various regions', 'We', 'this', 'the great difference', 'nearly all the terrestrial productions', 'the New and Old Worlds', 'the northern parts', 'the land', 'a slightly different climate', 'free migration', 'the northern temperate forms', 'the strictly arctic productions', 'We', 'the same fact', 'the great difference', 'the inhabitants', 'Australia', 'Africa', 'South America', 'the same latitude', 'these countries', 'each continent', 'we', 'the same fact', 'the opposite sides', 'lofty and continuous mountain-ranges', 'great deserts', 'large rivers', 'we', 'different productions', 'mountain chains', 'deserts', 'the oceans', 'continents', 'the differences', 'degree', 'distinct continents', 'the sea', 'we', 'the same law', 'No two marine faunas', 'hardly a fish', 'shell', 'crab', 'those', 'the eastern and western shores', 'South', 'Central America', 'these great faunas', 'impassable, isthmus', 'Panama', 'Westward', 'the shores', 'America', 'a wide space', 'open ocean', 'not an island', 'a halting-place', 'emigrants', 'we', 'a barrier', 'another kind', 'this', 'we', 'the eastern islands', 'the Pacific', 'another', 'totally distinct fauna', 'So that here three marine faunas range', 'parallel lines', 'corresponding climates', 'impassable barriers', 'land', 'open sea', 'they', 'the other hand', 'the eastern islands', 'the tropical parts', 'the Pacific', 'we', 'no impassable barriers', 'we', 'innumerable islands', 'halting-places', 'a hemisphere', 'we', 'the shores', 'Africa', 'this vast space', 'we', 'no well-defined and distinct marine faunas', 'hardly one shell', 'crab', 'fish', 'the above-named three approximate faunas', 'Eastern', 'Western America', 'the eastern Pacific islands', 'many fish range', 'the Pacific', 'the Indian Ocean', 'many shells', 'the eastern islands', 'the Pacific', 'the eastern shores', 'Africa', 'almost exactly opposite meridians', 'longitude', 'A third great fact', 'the foregoing statements', 'the affinity', 'the productions', 'the same continent', 'sea', 'the species', 'themselves', 'different points', 'stations', 'It', 'a law', 'the widest generality', 'every continent', 'innumerable instances', 'the naturalist', 'instance', 'north', 'south', 'the manner', 'which', 'successive groups', 'beings', 'He', 'closely allied, yet distinct kinds', 'birds', 'their nests', 'eggs', 'nearly the same manner', 'The plains', 'the Straits', 'Magellan', 'one species', 'Rhea', 'American ostrich', 'the plains', 'La Plata', 'another species', 'the same genus', 'a true ostrich', 'emeu', 'those', 'Africa', 'Australia', 'the same latitude', 'these same plains', 'La Plata', 'we', 'the agouti', 'bizcacha', 'animals', 'nearly the same habits', 'our hares', 'rabbits', 'the same order', 'Rodents', 'they', 'an American type', 'structure', 'We', 'the lofty peaks', 'the Cordillera', 'we', 'an alpine species', 'bizcacha', 'we', 'the waters', 'we', 'the beaver', 'musk', 'rat', 'the coypu', 'capybara', 'rodents', 'the American type', 'Innumerable other instances', 'we', 'the islands', 'the American shore', 'they', 'geological structure', 'they', 'all peculiar species', 'We', 'past ages', 'the last chapter', 'we', 'American types', 'the American continent', 'the American seas', 'We', 'these facts', 'some deep organic bond', 'space', 'time', 'the same areas', 'land', 'water', 'their physical conditions', 'The naturalist', 'little curiosity', 'who', 'what', 'this bond', 'This bond', 'my theory', 'inheritance', 'that', 'which', 'we', 'organisms', 'we', 'the case', 'varieties', 'The dissimilarity', 'the inhabitants', 'different regions', 'modification', 'natural selection', 'a quite subordinate degree', 'the direct influence', 'different physical conditions', 'The degree', 'dissimilarity', 'the migration', 'the more dominant forms', 'life', 'one region', 'another', 'more or less ease', 'periods', 'the nature', 'number', 'the former immigrants;—and', 'their action', 'reaction', 'their mutual struggles', 'life;—the relation', 'organism', 'organism', 'I', 'all relations', 'the high importance', 'barriers', 'play', 'migration', 'time', 'the slow process', 'modification', 'natural selection', 'Widely-ranging species', 'individuals', 'which', 'many competitors', 'their own widely-extended homes', 'the best chance', 'new places', 'they', 'new countries', 'their new homes', 'they', 'new conditions', 'further modification', 'improvement', 'they', 'groups', 'modified descendants', 'this principle', 'inheritance', 'modification', 'we', 'it', 'sections', 'genera', 'whole genera', 'even families', 'the same areas', 'the case', 'I', 'the last chapter', 'no law', 'necessary development', 'the variability', 'each species', 'an independent property', 'advantage', 'natural selection', 'it', 'the individual', 'its complex struggle', 'life', 'the degree', 'modification', 'different species', 'no uniform quantity', 'instance', 'species', 'which', 'direct competition', 'a body', 'a new and afterwards isolated country', 'they', 'modification', 'neither migration', 'isolation', 'themselves', 'anything', 'These principles', 'play', 'organisms', 'new relations', 'a lesser degree', 'the surrounding physical conditions', 'we', 'the last chapter', 'some forms', 'nearly the same character', 'an enormously remote geological period', 'certain species', 'vast spaces', 'these views', 'it', 'the several species', 'the same genus', 'the most distant quarters', 'the world', 'the same source', 'they', 'the same progenitor', 'the case', 'those species', 'which', 'whole geological periods', 'little modification', 'much difficulty', 'they', 'the same region', 'the vast geographical and climatal changes', 'which', 'ancient times', 'almost any amount', 'migration', 'many other cases', 'which', 'we', 'reason', 'the species', 'a genus', 'comparatively recent times', 'great difficulty', 'this head', 'It', 'the individuals', 'the same species', 'distant and isolated regions', 'one spot', 'their parents', 'the last chapter', 'it', 'individuals', 'natural selection', 'parents', 'We', 'the question', 'which', 'naturalists', 'species', 'one or more points', 'the earth’s surface', 'very many cases', 'extreme difficulty', 'the same species', 'some one point', 'the several distant and isolated points', 'the simplicity', 'the view', 'each species', 'a single region', 'the mind', 'He', 'who', 'it', 'the _vera causa', '_', 'ordinary generation', 'subsequent migration', 'the agency', 'a miracle', 'It', 'most cases', 'the area', 'a species', 'a plant', 'animal', 'two points', 'an interval', 'such a nature', 'the space', 'migration', 'the fact', 'something', 'The capacity', 'the sea', 'terrestrial mammals', 'any other organic beings', 'we', 'no inexplicable cases', 'the same mammal inhabiting distant points', 'the world', 'No geologist', 'any difficulty', 'such cases', 'Great Britain', 'Europe', 'the same quadrupeds', 'the same species', 'two separate points', 'we', 'Europe', 'Australia', 'South America', 'The conditions', 'life', 'a multitude', 'European animals', 'plants', 'America', 'Australia', 'some', 'the aboriginal plants', 'these distant points', 'the northern and southern hemispheres', 'The answer', 'I', 'mammals', 'some plants', 'their varied means', 'dispersal', 'the vast and broken interspace', 'The great and striking influence', 'which', 'barriers', 'every kind', 'distribution', 'the view', 'the great majority', 'species', 'one side', 'the other side', 'Some few families', 'many sub', '-', 'families', 'very many genera', 'a still greater number', 'sections', 'genera', 'a single region', 'it', 'several naturalists', 'the most natural genera', 'those genera', 'which', 'the species', 'one area', 'What a strange anomaly', 'it', 'the series', 'the individuals', 'the same species', 'a directly opposite rule', 'species', 'two or more distinct areas', 'it', 'me', 'it', 'many other naturalists', 'the view', 'each species', 'one area', 'that area', 'its powers', 'migration', 'subsistence', 'past and present conditions', 'Undoubtedly many cases', 'which', 'we', 'the same species', 'one point', 'the geographical and climatal changes', 'which', 'recent geological times', 'discontinuous the formerly continuous range', 'many species', 'we', 'the exceptions', 'continuity', 'range', 'a nature', 'we', 'the belief', 'general considerations', 'each species', 'one area', 'thence', 'it', 'It', 'all the exceptional cases', 'the same species', 'distant and separated points', 'I', 'a moment', 'any explanation', 'many such cases', 'some preliminary remarks', 'I', 'the most striking classes', 'facts', 'the same species', 'the summits', 'distant mountain-ranges', 'distant points', 'the arctic and antarctic regions', 'the following chapter', 'freshwater productions', 'the same terrestrial species', 'islands', 'the mainland', 'hundreds', 'miles', 'open sea', 'the existence', 'the same species', 'distant and isolated points', 'the earth’s surface', 'many instances', 'the view', 'each species', 'a single birthplace', 'our ignorance', 'respect', 'former climatal and geographical changes', 'various occasional means', 'transport', 'the belief', 'this', 'the universal law', 'me', 'this subject', 'we', 'the same time', 'a point', 'us', 'the several distinct species', 'a genus', 'which', 'my theory', 'a common progenitor', 'modification', 'some part', 'their migration', 'the area', 'their progenitor', 'it', 'the case', 'a region', 'which', 'its inhabitants', 'the same genera', 'the species', 'a second region', 'some former period immigrants', 'this other region', 'my theory', 'we', 'the principle', 'modification', 'the inhabitants', 'a region', 'those', 'another region', 'it', 'A volcanic island', 'instance', 'the distance', 'a few hundreds', 'miles', 'a continent', 'it', 'the course', 'time', 'a few colonists', 'their descendants', 'inheritance', 'the inhabitants', 'the continent', 'Cases', 'this nature', 'we', 'the theory', 'independent creation', 'This view', 'the relation', 'species', 'one region', 'those', 'another', 'the word variety', 'species', 'that', 'an ingenious paper', 'Mr. Wallace', 'which', 'he', 'every species', 'existence coincident', 'space', 'time', 'a pre-existing closely allied species', 'I', 'correspondence', 'he', 'generation', 'modification', 'The previous remarks', 'single and multiple centres', 'creation', 'another', 'all the individuals', 'the same species', 'a single pair', 'single hermaphrodite', 'some authors', 'many individuals', 'those organic beings', 'which', 'the species', 'my theory', 'a succession', 'improved varieties', 'which', 'other individuals', 'varieties', 'each successive stage', 'modification', 'improvement', 'all the individuals', 'each variety', 'a single parent', 'the majority', 'cases', 'all organisms', 'which', 'each birth', 'which', 'I', 'the slow process', 'modification', 'the individuals', 'the species', 'many individuals', 'the whole amount', 'modification', 'each stage', 'a single parent', 'what', 'I', 'our English racehorses', 'the horses', 'every other breed', 'they', 'their difference', 'superiority', 'any single pair', 'continued care', 'many individuals', 'many generations', 'the three classes', 'facts', 'which', 'I', 'the greatest amount', 'difficulty', 'the theory', '“single centres', 'creation', 'I', 'a few words', 'the means', 'dispersal', '_Means', 'Dispersal_.—Sir C. Lyell', 'other authors', 'this subject', 'I', 'only the briefest abstract', 'the more important facts', 'Change', 'climate', 'a powerful influence', 'migration', 'a region', 'its climate', 'a high road', 'migration', 'I', 'this branch', 'the subject', 'some detail', 'Changes', 'level', 'the land', 'a narrow isthmus', 'two marine faunas', 'it', 'it', 'the two faunas', 'the sea', 'a former period', 'islands', 'terrestrial productions', 'No geologist', 'great mutations', 'level', 'the period', 'existing organisms', 'Edward Forbes', 'all the islands', 'the Atlantic', 'Europe', 'Africa', 'Europe', 'America', 'Other authors', 'every ocean', 'almost every island', 'some mainland', 'the arguments', 'Forbes', 'it', 'a single island', 'which', 'some continent', 'This view', 'the Gordian knot', 'the dispersal', 'the same species', 'the most distant points', 'many a difficulty', 'my judgment', 'we', 'such enormous geographical changes', 'the period', 'existing species', 'It', 'me', 'we', 'abundant evidence', 'great oscillations', 'level', 'our continents', 'such vast changes', 'their position', 'extension', 'them', 'the recent period', 'the several intervening oceanic islands', 'I', 'the former existence', 'many islands', 'the sea', 'which', 'halting places', 'plants', 'many animals', 'their migration', 'the coral-producing oceans', 'such sunken islands', 'I', 'rings', 'coral', 'atolls', 'them', 'it', 'I', 'it', 'each species', 'a single birthplace', 'the course', 'time', 'we', 'something', 'the means', 'distribution', 'we', 'security', 'the former extension', 'the land', 'I', 'it', 'the recent period continents', 'which', 'the many existing oceanic islands', 'Several facts', 'distribution,—such', 'the great difference', 'the marine faunas', 'the opposite sides', 'almost every continent,—the close relation', 'the tertiary inhabitants', 'several lands', 'even seas', 'their present inhabitants,—a certain degree', 'relation', 'we', 'the distribution', 'mammals', 'the depth', 'the sea,—these', 'other such facts', 'me', 'the admission', 'such prodigious geographical revolutions', 'the recent period', 'the view', 'Forbes', 'his many followers', 'The nature', 'relative proportions', 'the inhabitants', 'oceanic islands', 'me', 'the belief', 'their former continuity', 'continents', 'their almost universally volcanic composition', 'the admission', 'they', 'the wrecks', 'sunken continents;—if', 'they', 'the land', 'some', 'the islands', 'other mountain-summits', 'granite', 'metamorphic schists', 'old fossiliferous or other such rocks', 'mere piles', 'volcanic matter', 'I', 'a few words', 'what', 'accidental means', 'which', 'occasional means', 'distribution', 'I', 'myself', 'plants', 'botanical works', 'this', 'that plant', 'wide dissemination', 'transport', 'the sea', 'the greater or less facilities', 'I', 'Mr. Berkeley’s aid', 'a few experiments', 'it', 'seeds', 'the injurious action', 'sea-water', 'my surprise', 'I', '87 kinds', 'an immersion', '28 days', 'an immersion', '137 days', 'convenience sake', 'I', 'small seeds', 'the capsule', 'fruit', 'all', 'these', 'a few days', 'they', 'wide spaces', 'the sea', 'they', 'the salt-water', 'I', 'some larger fruits', 'capsules', 'some', 'these', 'a long time', 'It', 'what a difference', 'the buoyancy', 'green and seasoned timber', 'it', 'me', 'floods', 'plants', 'branches', 'these', 'the banks', 'a fresh rise', 'the stream', 'the sea', 'I', 'stems', 'branches', '94 plants', 'ripe fruit', 'them', 'sea water', 'The majority', 'some which', 'green', 'a very short time', 'instance', 'ripe hazel-nuts', 'they', '90 days', 'they', 'ripe berries', '23 days', 'it', '85 days', 'the seeds', 'the ripe seeds', 'Helosciadium', 'two days', 'they', 'above 90 days', 'the 94 dried plants', 'above 28 days', 'some', 'a very much longer period', '64/87 seeds', 'an immersion', '28 days', 'as 18/94 plants', 'ripe fruit', 'not all the same species', 'the foregoing experiment', 'above 28 days', 'we', 'anything', 'these scanty facts', 'we', 'the seeds', '14/100 plants', 'any country', 'sea-currents', '28 days', 'their power', 'germination', 'Johnston’s Physical Atlas', 'the average rate', 'the several Atlantic currents', '33 miles', 'diem', 'the rate', '60 miles', 'diem', 'this average', 'the seeds', '14/100 plants', 'one country', '924 miles', 'sea', 'another country', 'a favourable spot', 'an inland gale', 'they', 'my experiments', 'M. Martens', 'similar ones', 'a much better manner', 'he', 'the seeds', 'a box', 'the actual sea', 'they', 'the air', 'really floating plants', 'He', '98 seeds', 'mine', 'he', 'many large fruits', 'plants', 'which', 'the sea', 'this', 'the average length', 'their flotation', 'their resistance', 'the injurious action', 'the salt-water', 'the other hand', 'he', 'the plants', 'branches', 'the fruit', 'this', 'we', 'some', 'them', 'The result', 'his seeds', '42 days', 'germination', 'I', 'plants', 'the waves', 'a less time', 'those', 'violent movement', 'our experiments', 'it', 'the seeds', 'about 10/100 plants', 'a flora', 'a space', 'sea', 'width', 'The fact', 'the larger fruits', 'plants', 'large seeds', 'fruit', 'any other means', 'de Candolle', 'such plants', 'ranges', 'seeds', 'another manner', 'Drift timber', 'most islands', 'those', 'the midst', 'the widest oceans', 'the natives', 'the coral-islands', 'the Pacific', 'procure stones', 'their tools', 'the roots', 'drifted trees', 'these stones', 'a valuable royal tax', 'I', 'examination', 'when irregularly shaped stones', 'the roots', 'trees', 'small parcels', 'earth', 'their interstices', 'them,—so', 'not a particle', 'the longest transport', 'one small portion', 'earth', 'thus _', '_', 'wood', 'an oak', 'three dicotyledonous plants', 'I', 'the accuracy', 'this observation', 'I', 'the carcasses', 'birds', 'the sea', 'seeds', 'many kinds', 'the crops', 'floating birds', 'their vitality', 'peas', 'vetches', 'instance', 'even a few days’ immersion', 'sea-water', 'some', 'the crop', 'a pigeon', 'which', 'artificial salt-water', '30 days', 'my surprise', 'nearly all', 'Living birds', 'highly effective agents', 'the transportation', 'seeds', 'I', 'many facts', 'birds', 'many kinds', 'gales', 'vast distances', 'the ocean', 'We', 'I', 'such circumstances', 'their rate', 'flight', '35 miles', 'some authors', 'a far higher estimate', 'I', 'an instance', 'nutritious seeds', 'the intestines', 'a bird', 'hard seeds', 'fruit', 'even the digestive organs', 'a turkey', 'the course', 'two months', 'I', 'my garden', '12 kinds', 'seeds', 'the excrement', 'small birds', 'these', 'some', 'them', 'which', 'I', 'the following fact', 'the crops', 'birds', 'gastric juice', 'the least injure', 'I', 'trial', 'the germination', 'seeds', 'a bird', 'a large supply', 'food', 'it', 'all the grains', 'the gizzard', '12 or even 18 hours', 'A bird', 'this interval', 'the distance', '500 miles', 'hawks', 'tired birds', 'the contents', 'their torn crops', 'Mr. Brent', 'me', 'a friend', 'his', 'flying carrier-pigeons', 'France', 'England', 'the hawks', 'the English coast', 'their arrival', 'Some hawks', 'owls', 'their prey', 'an interval', 'twelve to twenty hours', 'disgorge pellets', 'which', 'I', 'experiments', 'the Zoological Gardens', 'seeds', 'germination', 'Some seeds', 'the oat', 'wheat', 'millet', 'canary', 'hemp', 'clover', 'beet', 'to twenty-one hours', 'the stomachs', 'different birds', 'prey', 'two seeds', 'beet', 'two days', 'fourteen hours', 'Freshwater fish', 'I', 'seeds', 'many land and water plants', 'fish', 'birds', 'the seeds', 'place', 'place', 'I', 'many kinds', 'seeds', 'the stomachs', 'dead fish', 'their bodies', 'fishing-eagles', 'storks', 'pelicans', 'these birds', 'an interval', 'many hours', 'the seeds', 'pellets', 'them', 'their excrement', 'these seeds', 'their power', 'germination', 'Certain seeds', 'this process', 'the beaks', 'feet', 'birds', 'I', 'earth', 'them', 'one instance', 'I', 'twenty-two grains', 'dry argillaceous earth', 'one foot', 'a partridge', 'this earth', 'the seed', 'a vetch', 'seeds', 'great distances', 'many facts', 'soil', 'seeds', 'a moment', 'the millions', 'quails', 'which', 'the Mediterranean', 'we', 'the earth', 'their feet', 'a few minute seeds', 'I', 'this subject', 'icebergs', 'earth', 'stones', 'brushwood', 'bones', 'the nest', 'a land-bird', 'I', 'they', 'seeds', 'one part', 'another', 'the arctic and antarctic regions', 'Lyell', 'the Glacial period', 'one part', 'the now temperate regions', 'another', 'the Azores', 'the large number', 'the species', 'plants', 'Europe', 'comparison', 'the plants', 'other oceanic islands', 'the mainland', 'Mr. H. C. Watson', 'the somewhat northern character', 'the flora', 'comparison', 'the latitude', 'I', 'these islands', 'ice-borne seeds', 'the Glacial epoch', 'my request', 'Sir C. Lyell', 'M. Hartung', 'he', 'erratic boulders', 'these islands', 'he', 'he', 'large fragments', 'granite', 'other rocks', 'which', 'the archipelago', 'we', 'that icebergs', 'their rocky burthens', 'the shores', 'these mid-ocean islands', 'it', 'they', 'thither', 'the seeds', 'northern plants', 'the several above means', 'transport', 'several other means', 'which', 'doubt', 'action year', 'year', 'centuries', 'tens of thousands', 'years', 'it', 'I', 'a marvellous fact', 'many plants', 'These means', 'transport', 'this', 'the currents', 'the sea', 'the direction', 'prevalent gales', 'wind', 'It', 'any means', 'transport', 'seeds', 'very great distances', 'seeds', 'their vitality', 'a great length', 'time', 'the action', 'seawater', 'they', 'the crops', 'intestines', 'birds', 'occasional transport', 'tracts', 'sea', 'breadth', 'island', 'island', 'a continent', 'a neighbouring island', 'one distant continent', 'another', 'The floras', 'distant continents', 'such means', 'any great degree', 'we', 'them', 'The currents', 'their course', 'seeds', 'North America', 'Britain', 'they', 'seeds', 'the West Indies', 'our western shores', 'so long an immersion', 'salt-water', 'they', 'our climate', 'one or two land-birds', 'the whole Atlantic Ocean', 'North America', 'the western shores', 'Ireland', 'England', 'seeds', 'these wanderers', 'one means', 'dirt', 'their feet', 'which', 'itself', 'a rare accident', 'this case', 'the chance', 'a seed', 'favourable soil', 'maturity', 'it', 'a great error', 'a well-stocked island', 'Great Britain', 'it', 'this', 'the last few centuries', 'occasional means', 'transport', 'immigrants', 'Europe', 'any other continent', 'that a poorly-stocked island', 'the mainland', 'colonists', 'similar means', 'I', 'twenty seeds', 'animals', 'an island', 'Britain', 'its new home', 'this', 'it', 'me', 'no valid argument', 'what', 'occasional means', 'transport', 'the long lapse', 'geological time', 'an island', 'it', 'inhabitants', 'almost bare land', 'few or no destructive insects', 'birds', 'nearly every seed', 'which', 'Dispersal', 'the Glacial period_.—The identity', 'many plants', 'animals', 'mountain-summits', 'hundreds', 'miles', 'lowlands', 'the Alpine species', 'the most striking cases', 'the same species', 'distant points', 'the apparent possibility', 'their', 'It', 'a remarkable fact', 'the same plants', 'the snowy regions', 'the Alps', 'Pyrenees', 'the extreme northern parts', 'Europe', 'it', 'the plants', 'the White Mountains', 'the United States', 'America', 'those', 'Labrador', 'we', 'Asa Gray', 'those', 'the loftiest mountains', 'Europe', 'such facts', 'Gmelin', 'the same species', 'several distinct points', 'we', 'this same belief', 'had not Agassiz', 'others', 'vivid attention', 'the Glacial period', 'which', 'we', 'a simple explanation', 'these facts', 'We', 'evidence', 'almost every conceivable kind', 'a very recent geological period', 'central Europe', 'North America', 'an Arctic climate', 'The ruins', 'a house', 'fire', 'their tale', 'the mountains', 'Scotland', 'Wales', 'their scored flanks', 'polished surfaces', 'perched boulders', 'the icy streams', 'which', 'their valleys', 'the climate', 'Europe', 'Northern Italy', 'gigantic moraines', 'old glaciers', 'the vine', 'maize', 'a large part', 'the United States', 'erratic boulders', 'rocks', 'drifted icebergs', 'coast-ice', 'a former cold period', 'The former influence', 'the glacial climate', 'the distribution', 'the inhabitants', 'Europe', 'remarkable clearness', 'Edward Forbes', 'we', 'the changes', 'a new glacial period', 'the cold', 'each more southern zone', 'arctic beings', 'their former more temperate inhabitants', 'the latter', 'arctic productions', 'their places', 'The inhabitants', 'the more temperate regions', 'the same time', 'they', 'barriers', 'which case', 'they', 'The mountains', 'snow', 'ice', 'their former Alpine inhabitants', 'the plains', 'the time', 'the cold', 'its maximum', 'we', 'a uniform arctic fauna', 'flora', 'the central parts', 'Europe', 'the Alps', 'Pyrenees', 'Spain', 'The now temperate regions', 'the United States', 'arctic plants', 'animals', 'these', 'those', 'Europe', 'the present circumpolar inhabitants', 'which', 'we', 'the world', 'We', 'the Glacial period', 'North America', 'Europe', 'the southern migration', 'this', 'no difference', 'the final result', 'the warmth', 'the arctic forms', 'northward', 'their retreat', 'the productions', 'the more temperate regions', 'the snow', 'the bases', 'the mountains', 'the arctic forms', 'the cleared and thawed ground', 'the warmth', 'their brethren', 'their northern journey', 'the warmth', 'the same arctic species', 'which', 'a body', 'the lowlands', 'the Old', 'New Worlds', 'distant mountain-summits', 'all lesser heights', 'the arctic regions', 'both hemispheres', 'we', 'the identity', 'many plants', 'points', 'the mountains', 'the United States', 'Europe', 'We', 'the fact', 'the Alpine plants', 'each mountain-range', 'the arctic forms', 'them', 'the migration', 'the cold', 'migration', 'the returning warmth', 'The Alpine plants', 'example', 'Scotland', 'Mr. H. C. Watson', 'those', 'the Pyrenees', 'Ramond', 'the plants', 'northern Scandinavia', 'those', 'the United States', 'Labrador', 'those', 'the mountains', 'Siberia', 'the arctic regions', 'that country', 'These views', 'they', 'the perfectly well-ascertained occurrence', 'a former Glacial period', 'me', 'so satisfactory a manner', 'the present distribution', 'the Alpine and Arctic productions', 'Europe', 'America', 'other regions', 'we', 'the same species', 'distant mountain-summits', 'we', 'other evidence', 'a colder climate', 'their former migration', 'the low intervening tracts', 'their existence', 'the climate', 'the Glacial period', 'any degree', 'some geologists', 'the United States', 'the case', 'the distribution', 'the fossil Gnathodon', 'the arctic and temperate productions', 'a very late period', 'their present homes', 'I', 'no satisfactory evidence', 'respect', 'this', 'intercalated slightly warmer period', 'the Glacial period', 'The arctic forms', 'their long southern migration', 're', '-', 'migration northward', 'nearly the same climate', 'they', 'a body', 'their mutual relations', 'accordance', 'the principles', 'this volume', 'they', 'much modification', 'our Alpine productions', 'the moment', 'the returning warmth', 'the bases', 'the summits', 'the mountains', 'the case', 'it', 'all the same arctic species', 'mountain ranges', 'they', 'all probability', 'ancient Alpine species', 'which', 'the mountains', 'the commencement', 'the Glacial epoch', 'which', 'its coldest period', 'the plains', 'they', 'somewhat different climatal influences', 'Their mutual relations', 'some degree', 'they', 'modification', 'this', 'we', 'the case', 'we', 'the present Alpine plants', 'animals', 'the several great European mountain-ranges', 'the species', 'the same, some present varieties', 'some', 'doubtful forms', 'distinct yet closely allied or representative species', 'what', 'I', 'place', 'the Glacial period', 'I', 'its commencement', 'the arctic productions', 'the polar regions', 'they', 'the present day', 'the foregoing remarks', 'distribution', 'strictly arctic forms', 'some few northern temperate forms', 'some', 'these', 'the lower mountains', 'the plains', 'North America', 'Europe', 'it', 'I', 'the necessary degree', 'uniformity', 'the sub-arctic and northern temperate forms', 'the world', 'the commencement', 'the Glacial period', 'the present day', 'the sub-arctic and northern temperate productions', 'the Old', 'New Worlds', 'the Atlantic Ocean', 'the extreme northern part', 'the Pacific', 'the Glacial period', 'the inhabitants', 'the Old', 'New Worlds', 'further southwards', 'present', 'they', 'wider spaces', 'ocean', 'I', 'the above difficulty', 'still earlier changes', 'climate', 'an opposite nature', 'We', 'good reason', 'the newer Pliocene period', 'the Glacial epoch', 'the majority', 'the inhabitants', 'the world', 'the climate', 'the present day', 'we', 'the organisms', 'the climate', 'latitude', 'the Pliocene period', 'the Polar Circle', 'latitude', 'the strictly arctic productions', 'the broken land', 'the pole', 'we', 'a globe', 'we', 'the Polar Circle', 'almost continuous land', 'western Europe', 'Siberia', 'eastern America', 'this continuity', 'the circumpolar land', 'the consequent freedom', 'intermigration', 'a more favourable climate', 'I', 'the necessary amount', 'uniformity', 'arctic and northern temperate productions', 'the Old', 'New Worlds', 'a period', 'the Glacial epoch', 'reasons', 'our continents', 'nearly the same relative position', 'level', 'I', 'the above view', 'some earlier and still warmer period', 'the older Pliocene period', 'a large number', 'the same plants', 'animals', 'the almost continuous circumpolar land', 'these plants', 'animals', 'the Old', 'New Worlds', 'southwards', 'the climate', 'the commencement', 'the Glacial period', 'We', 'I', 'their descendants', 'a modified condition', 'the central parts', 'Europe', 'the United States', 'this view', 'we', 'the relationship', 'very little identity', 'the productions', 'North America and Europe,—a relationship', 'which', 'the distance', 'the two areas', 'their separation', 'the Atlantic Ocean', 'We', 'the singular fact', 'several observers', 'the productions', 'Europe', 'America', 'the later tertiary stages', 'they', 'the present time', 'these warmer periods', 'the northern parts', 'the Old', 'New Worlds', 'land', 'a bridge', 'the inter', '-', 'migration', 'their inhabitants', 'the slowly decreasing warmth', 'the Pliocene period', 'the species', 'which', 'the New and Old Worlds', 'the Polar Circle', 'they', 'This separation', 'the more temperate productions', 'place', 'the plants', 'animals', 'they', 'the one great region', 'the native American productions', 'them', 'the other great region', 'those', 'the Old World', 'we', 'everything', 'much modification,—for far more modification', 'the Alpine productions', 'a much more recent period', 'the several mountain-ranges', 'the arctic lands', 'the two Worlds', 'it', 'we', 'the now living productions', 'the temperate regions', 'the New and Old Worlds', 'we', 'very few identical species', 'Asa Gray', 'more plants', 'we', 'every great class', 'many forms', 'which', 'some naturalists', 'geographical races', 'others', 'distinct species', 'a host', 'closely allied or representative forms', 'which', 'all naturalists', 'the land', 'the waters', 'the sea', 'a slow southern migration', 'a marine fauna', 'which', 'the Pliocene', 'even a somewhat earlier period', 'the continuous shores', 'the Polar Circle', 'the theory', 'modification', 'many closely allied forms', 'areas', 'I', 'we', 'the presence', 'many existing and tertiary representative forms', 'the eastern and western shores', 'temperate North America', 'the still more striking case', 'many closely allied crustaceans', 'Dana’s admirable work', 'some fish', 'other marine animals', 'the Mediterranean', 'the seas', 'Japan,—areas', 'a continent', 'nearly a hemisphere', 'equatorial ocean', 'These cases', 'relationship', 'identity', 'the inhabitants', 'seas', 'the past and present inhabitants', 'the temperate lands', 'North America', 'Europe', 'the theory', 'creation', 'We', 'they', 'correspondence', 'the nearly similar physical conditions', 'the areas', 'we', 'instance', 'South America', 'the southern continents', 'the Old World', 'we', 'countries', 'all their physical conditions', 'their inhabitants', 'we', 'our more immediate subject', 'the Glacial period', 'I', 'Forbes’s view', 'Europe', 'we', 'the plainest evidence', 'the cold period', 'the western shores', 'Britain', 'the Oural range', 'the Pyrenees', 'We', 'the frozen mammals', 'nature', 'the mountain vegetation', 'Siberia', 'the Himalaya', 'points', 'glaciers', 'the marks', 'their former low descent', 'Sikkim', 'Dr. Hooker', 'maize', 'gigantic ancient moraines', 'the equator', 'we', 'some direct evidence', 'former glacial action', 'New Zealand', 'the same plants', 'widely separated mountains', 'this island', 'the same story', 'one account', 'which', 'we', 'direct evidence', 'glacial action', 'the south-eastern corner', 'Australia', 'America', 'the northern half, ice-borne fragments', 'rock', 'the eastern side', 'lat', 'the shores', 'the Pacific', 'the climate', 'lat', '46 deg', 'erratic boulders', 'the Rocky Mountains', 'the Cordillera', 'Equatorial South America', 'glaciers', 'their present level', 'central Chile', 'I', 'the structure', 'a vast mound', 'detritus', 'about 800 feet', 'height', 'a valley', 'the Andes', 'I', 'a gigantic moraine', 'any existing glacier', 'both sides', 'the continent', 'lat', 'the southernmost extremity', 'we', 'the clearest evidence', 'former glacial action', 'huge boulders', 'their parent source', 'We', 'the Glacial epoch', 'these several far distant points', 'opposite sides', 'the world', 'we', 'good evidence', 'almost every case', 'the epoch', 'the latest geological period', 'We', 'excellent evidence', 'it', 'an enormous time', 'years', 'each point', 'The cold', 'one point', 'the globe', 'another', 'it', 'long at each', 'it', 'a geological sense', 'it', 'me', 'it', 'a part', 'the period', 'the world', 'some distinct evidence', 'the contrary', 'we', 'the glacial action', 'the eastern and western sides', 'North America', 'the Cordillera', 'the equator', 'the warmer temperate zones', 'both sides', 'the southern extremity', 'the continent', 'this', 'it', 'the temperature', 'the whole world', 'this period', 'it', 'my purpose', 'the temperature', 'the same time', 'certain broad belts', 'longitude', 'this view', 'the whole world', 'broad longitudinal belts', 'pole', 'pole', 'much light', 'the present distribution', 'identical and allied species', 'America', 'Dr. Hooker', 'the flowering plants', 'Tierra del Fuego', 'no inconsiderable part', 'its scanty flora', 'Europe', 'these two points', 'many closely allied species', 'the lofty mountains', 'equatorial America', 'a host', 'peculiar species', 'European genera', 'the highest mountains', 'Brazil', 'some few European genera', 'Gardner', 'which', 'the wide intervening hot countries', 'the Silla', 'Caraccas', 'the illustrious Humboldt', 'species', 'the Cordillera', 'the mountains', 'Abyssinia', 'several European forms', 'some few representatives', 'the peculiar flora', 'the Cape', 'Good Hope', 'the Cape', 'Good Hope', 'a very few European species', 'man', 'the mountains', 'some few representative European forms', 'which', 'the intertropical parts', 'Africa', 'the Himalaya', 'the isolated mountain-ranges', 'the peninsula', 'India', 'the heights', 'Ceylon', 'the volcanic cones', 'Java', 'many plants', 'the same time', 'plants', 'Europe', 'the intervening hot lowlands', 'A list', 'the genera', 'the loftier peaks', 'Java', 'a picture', 'a collection', 'a hill', 'Europe', 'the fact', 'southern Australian forms', 'plants', 'the summits', 'the mountains', 'Borneo', 'Some', 'these Australian forms', 'I', 'Dr. Hooker', 'the heights', 'the peninsula', 'Malacca', 'the one hand', 'India', 'Japan', 'the southern mountains', 'Australia', 'Dr. F. Müller', 'several European species', 'other species', 'man', 'the lowlands', 'a long list', 'I', 'Dr. Hooker', 'European genera', 'Australia', 'the intermediate torrid regions', 'the admirable ‘Introduction', 'the Flora', 'New Zealand', 'Dr. Hooker', 'analogous and striking facts', 'regard', 'the plants', 'that large island', 'we', 'the world', 'the plants', 'the more lofty mountains', 'the temperate lowlands', 'the northern and southern hemispheres', 'they', 'much oftener', 'a most remarkable manner', 'This brief abstract', 'plants', 'some strictly analogous facts', 'the distribution', 'terrestrial animals', 'marine productions', 'similar cases', 'an example', 'I', 'a remark', 'the highest authority', 'Professor Dana', 'it', 'a wonderful fact', 'New Zealand', 'a closer resemblance', 'its crustacea', 'Great Britain', 'its antipode', 'any other part', 'the world', 'Sir J. Richardson', 'the reappearance', 'the shores', 'New Zealand', 'Tasmania', 'northern forms', 'fish', 'Dr. Hooker', 'me', 'twenty-five species', 'Algæ', 'New Zealand', 'Europe', 'the intermediate tropical seas', 'It', 'the southern parts', 'the mountain-ranges', 'the intertropical regions', 'the northern temperate zones', 'Mr. H. C. Watson', 'equatorial latitudes', 'the Alpine or mountain floras', 'the forms', 'the mountains', 'the warmer regions', 'the earth', 'the southern hemisphere', 'doubtful value', 'some naturalists', 'others', 'varieties', 'some', 'northern forms', 'distinct species', 'us', 'what light', 'the foregoing facts', 'the belief', 'it', 'a large body', 'geological evidence', 'the whole world', 'a large part', 'it', 'the Glacial period', 'present', 'The Glacial period', 'years', 'we', 'what vast spaces', 'some naturalised plants', 'animals', 'a few centuries', 'this period', 'any amount', 'migration', 'the cold', 'all the tropical plants', 'other productions', 'both sides', 'the equator', 'the rear', 'the temperate productions', 'the arctic', 'we', 'The tropical plants', 'much extinction', 'no one', 'the tropics', 'as many species', 'we', 'the present day', 'the Cape', 'Good Hope', 'parts', 'temperate Australia', 'we', 'many tropical plants', 'animals', 'a considerable amount', 'extermination', 'a moderate fall', 'temperature', 'the warmest spots', 'the great fact', 'mind', 'all tropical productions', 'a certain extent', 'the other hand', 'the temperate productions', 'the equator', 'they', 'somewhat new conditions', 'it', 'many temperate plants', 'the inroads', 'competitors', 'a much warmer climate', 'it', 'me', 'mind', 'the tropical productions', 'a suffering state', 'a firm front', 'intruders', 'a certain number', 'the more vigorous and dominant temperate forms', 'the native ranks', 'the equator', 'The invasion', 'course', 'high land', 'a dry climate', 'Dr. Falconer', 'me', 'it', 'the damp', 'the heat', 'the tropics', 'which', 'perennial plants', 'a temperate climate', 'the other hand', 'hottest districts', 'an asylum', 'the tropical natives', 'The mountain-ranges north-west', 'the Himalaya', 'the long line', 'the Cordillera', 'two great lines', 'invasion', 'it', 'a striking fact', 'me', 'Dr. Hooker', 'all the flowering plants', 'number', 'Tierra del Fuego', 'Europe', 'North America', 'which', 'the line', 'march', 'I', 'some temperate productions', 'even the _', '_', 'the tropics', 'the period', 'the cold', 'arctic forms', 'some twenty-five degrees', 'latitude', 'their native country', 'the land', 'the foot', 'the Pyrenees', 'this period', 'extreme cold', 'I', 'the climate', 'the equator', 'the level', 'the sea', 'that', 'the height', 'six or seven thousand feet', 'this', 'the coldest period', 'I', 'large spaces', 'the tropical lowlands', 'a mingled tropical and temperate vegetation', 'that', 'strange luxuriance', 'the base', 'the Himalaya', 'Hooker', 'I', 'a considerable number', 'plants', 'a few terrestrial animals', 'some marine productions', 'the Glacial period', 'the northern and southern temperate zones', 'the intertropical regions', 'some', 'the equator', 'the warmth', 'these temperate forms', 'the higher mountains', 'the lowlands', 'those', 'which', 'the equator', 'migrate northward', 'their former homes', 'the forms', 'which', 'the equator', 'their homes', 'the more temperate latitudes', 'the opposite hemisphere', 'we', 'reason', 'geological evidence', 'the whole body', 'arctic shells', 'any modification', 'their long southern migration', 're', '-', 'migration northward', 'the case', 'those intruding forms', 'which', 'themselves', 'the intertropical mountains', 'These', 'strangers', 'many new forms', 'life', 'it', 'selected modifications', 'their structure', 'habits', 'constitutions', 'them', 'these wanderers', 'inheritance', 'their brethren', 'the northern or southern hemispheres', 'their new homes', 'well-marked varieties', 'distinct species', 'It', 'a remarkable fact', 'Hooker', 'regard', 'America', 'Alph', 'de Candolle', 'regard', 'Australia', 'many more identical plants', 'allied forms', 'the north', 'the south', 'a reversed direction', 'We', 'a few southern vegetable forms', 'the mountains', 'Borneo', 'Abyssinia', 'I', 'this preponderant migration', 'north', 'south', 'the greater extent', 'land', 'the north', 'the northern forms', 'their own homes', 'greater numbers', 'natural selection', 'competition', 'a higher stage', 'perfection', 'power', 'the southern forms', 'they', 'the Glacial period', 'the northern forms', 'the less powerful southern forms', 'the same manner', 'we', 'the present day', 'very many European productions', 'the ground', 'La Plata', 'a lesser degree', 'Australia', 'a certain extent', 'the natives', 'extremely few southern forms', 'any part', 'Europe', 'though hides', 'wool', 'other objects', 'seeds', 'Europe', 'the last two or three centuries', 'La Plata', 'the last thirty or forty years', 'Australia', 'Something', 'the same kind', 'the intertropical mountains', 'the Glacial period', 'they', 'endemic Alpine forms', 'these', 'the more dominant forms', 'the larger areas', 'more efficient workshops', 'the north', 'many islands', 'the native productions', 'the natives', 'their numbers', 'this', 'the first stage', 'extinction', 'A mountain', 'an island', 'the land', 'the intertropical mountains', 'the Glacial period', 'I', 'the productions', 'these islands', 'the land', 'those', 'the larger areas', 'the north', 'the same way', 'the productions', 'real islands', 'continental forms', 'man’s agency', 'I', 'all difficulties', 'the view', 'regard', 'the range', 'affinities', 'the allied species', 'which', 'the northern and southern temperate zones', 'the mountains', 'the intertropical regions', 'Very many difficulties', 'I', 'the exact lines', 'means', 'migration', 'certain species', 'not others', 'certain species', 'rise', 'new groups', 'forms', 'others', 'We', 'such facts', 'we', 'one species', 'not another', 'man’s agency', 'a foreign land', 'one', 'another species', 'their own homes', 'I', 'many difficulties', 'some', 'admirable clearness', 'Dr. Hooker', 'his botanical works', 'the antarctic regions', 'These', 'I', 'the occurrence', 'identical species', 'points', 'Kerguelen Land', 'New Zealand', 'Fuegia', 'I', 'the close', 'the Glacial period', 'icebergs', 'Lyell', 'their dispersal', 'the existence', 'several quite distinct species', 'genera', 'the south', 'these and other distant points', 'the southern hemisphere', 'my theory', 'descent', 'modification', 'a far more remarkable case', 'difficulty', 'some', 'these species', 'we', 'time', 'the commencement', 'the Glacial period', 'their migration', 'their subsequent modification', 'the necessary degree', 'The facts', 'me', 'peculiar and very distinct species', 'lines', 'some common centre', 'I', 'the northern hemisphere', 'a former and warmer period', 'the commencement', 'the Glacial period', 'the antarctic lands', 'ice', 'a highly peculiar and isolated flora', 'I', 'this flora', 'the Glacial epoch', 'a few forms', 'various points', 'the southern hemisphere', 'occasional means', 'transport', 'the aid', 'halting-places', 'existing and now sunken islands', 'the commencement', 'the Glacial period', 'icebergs', 'these means', 'I', 'the southern shores', 'America', 'Australia', 'New Zealand', 'the same peculiar forms', 'vegetable life', 'Sir C. Lyell', 'a striking passage', 'language', 'mine', 'the effects', 'great alternations', 'climate', 'geographical distribution', 'I', 'the world', 'his great cycles', 'change', 'this view', 'modification', 'natural selection', 'a multitude', 'facts', 'the present distribution', 'both', 'allied forms', 'life', 'The living waters', 'one short period', 'the north', 'the south', 'the equator', 'greater force', 'the north', 'the south', 'the tide', 'its drift', 'horizontal lines', 'the shores', 'the tide', 'the living waters', 'their living drift', 'our mountain-summits', 'a line', 'the arctic', 'a great height', 'the equator', 'The various beings', 'savage races', 'man', 'the mountain-fastnesses', 'almost every land', 'which', 'a record', 'interest', 'us', 'the former inhabitants', 'the surrounding lowlands']\n",
      "Verbs: ['consider', 'strike', 'account', 'study', 'come', 'suffice', 'prove', 'exclude', 'agree', 'travel', 'meet', 'be', 'parallel', 'require', 'find', 'confine', 'have', 'peculiar', 'point', 'inhabit', 'live', 'compare', 'find', 'point', 'compare', 'inhabit', 'find', 'give', 'strike', 'relate', 'see', 'except', 'join', 'see', 'see', 'find', 'endure', 'separate', 'turn', 'find', 'separate', 'extend', 'have', 'pass', 'meet', 'correspond', 'separate', 'proceed', 'encounter', 'have', 'travel', 'come', 'meet', 'define', 'name', 'include', 'forego', 'offer', 'travel', 'fail', 'strike', 'relate', 'replace', 'hear', 'ally', 'note', 'see', 'construct', 'colour', 'inhabit', 'northward', 'find', 'see', 'have', 'belong', 'display', 'ascend', 'find', 'look', 'find', 'give', 'look', 'differ', 'look', 'show', 'find', 'see', 'prevail', 'feel', 'lead', 'inquire', 'cause', 'know', 'produce', 'like', 'see', 'attribute', 'depend', 'effect', 'remark', 'come', 'check', 'do', 'range', 'abound', 'triumph', 'extend', 'have', 'seize', 'spread', 'expose', 'undergo', 'become', 'produce', 'modify', 'understand', 'confine', 'believe', 'remark', 'take', 'profit', 'stand', 'do', 'come', 'bring', 'surround', 'see', 'retain', 'migrate', 'become', 'modify', 'inhabit', 'proceed', 'descend', 'undergo', 'be', 'believe', 'migrate', 'supervene', 'have', 'believe', 'produce', 'be', 'inhabit', 'proceed', 'produce', 'explain', 'produce', 'bring', 'discuss', 'create', 'be', 'understand', 'migrate', 'find', 'produce', 'captivate', 'reject', 'reject', 'call', 'admit', 'inhabit', 'inhabit', 'pass', 'give', 'migrate', 'limit', 'find', 'feel', 'unite', 'possess', 'produce', 'find', 'become', 'naturalise', 'believe', 'migrate', 'migrate', 'have', 'produce', 'migrate', 'confine', 'observe', 'confine', 'come', 'prevail', 'produce', 'seem', 'have', 'produce', 'migrate', 'permit', 'occur', 'explain', 'pass', 'occur', 'interrupt', 'render', 'reduce', 'consider', 'grave', 'give', 'render', 'produce', 'migrate', 'discuss', 'live', 'pretend', 'offer', 'discuss', 'separate', 'explain', 'migrate', 'consider', 'seem', 'discuss', 'enable', 'consider', 'descend', 'migrate', 'undergo', 'inhabit', 'show', 'relate', 'belong', 'receive', 'strengthen', 'understand', 'relate', 'stock', 'upheave', 'form', 'receive', 'modify', 'relate', 'see', 'differ', 'substitute', 'advance', 'conclude', 'come', 'exist', 'ally', 'know', 'attribute', 'bear', 'ally', 'descend', 'suppose', 'create', 'intercross', 'exist', 'descend', 'improve', 'blend', 'supplant', 'descend', 'unite', 'intercross', 'believe', 'keep', 'intercrosse', 'go', 'change', 'descent', 'illustrate', 'mean', 'differ', 'owe', 'descent', 'continue', 'select', 'train', 'discuss', 'select', 'present', 'say', 'treat', 'give', 'have', 'have', 'discuss', 'separate', 'submerge', 'let', 'submerge', 'blend', 'blend', 'extend', 'connect', 'continent', 'allow', 'pass', 'dispute', 'occur', 'exist', 'insist', 'connect', 'bridge', 'unite', 'use', 'trust', 'admit', 'exist', 'unite', 'cut', 'remove', 'authorize', 'admit', 'exist', 'seem', 'have', 'unite', 'intervene', 'admit', 'bury', 'serve', 'halt', 'produce', 'mark', 'believe', 'stand', 'admit', 'believe', 'proceed', 'know', 'enable', 'speculate', 'believe', 'prove', 'unite', 'exist', 'see', 'seem', 'oppose', 'necessitate', 'advance', 'admit', 'seem', 'oppose', 'favour', 'exist', 'range', 'form', 'consist', 'say', 'call', 'call', 'confine', 'state', 'adapt', 'say', 'try', 'know', 'resist', 'find', 'germinate', 'survive', 'try', 'sink', 'float', 'injure', 'try', 'float', 'know', 'be', 'occur', 'wash', 'dry', 'wash', 'lead', 'dry', 'place', 'sink', 'float', 'dry', 'float', 'sink', 'dry', 'float', 'plant', 'germinate', 'float', 'dry', 'float', 'germinate', 'sink', 'dry', 'float', 'germinate', 'dry', 'float', 'float', 'germinate', 'forego', 'float', 'dry', 'infer', 'conclude', 'float', 'retain', 'run', 'belong', 'float', 'strand', 'blow', 'germinate', 'try', 'place', 'expose', 'float', 'try', 'choose', 'seed', 'live', 'favour', 'dry', 'see', 'cause', 'float', 'float', 'doubt', 'expose', 'float', 'protect', 'assume', 'dry', 'float', 'germinate', 'float', 'transport', 'show', 'restrict', 'transport', 'throw', 'find', 'shape', 'embed', 'enclose', 'wash', 'enclose', 'germinate', 'show', 'float', 'escape', 'devour', 'float', 'retain', 'kill', 'take', 'float', 'germinate', 'live', 'fail', 'give', 'show', 'blow', 'think', 'assume', 'give', 'see', 'pass', 'pass', 'pick', 'seem', 'try', 'germinate', 'follow', 'secrete', 'know', 'find', 'devour', 'assert', 'pass', 'blow', 'know', 'look', 'tear', 'scatter', 'inform', 'have', 'give', 'fly', 'destroy', 'bolt', 'know', 'make', 'include', 'germinate', 'grow', 'retain', 'find', 'eat', 'devour', 'transport', 'force', 'give', 'reject', 'pass', 'retain', 'kill', 'show', 'adhere', 'remove', 'be', 'transport', 'give', 'show', 'charge', 'reflect', 'cross', 'doubt', 'adhere', 'include', 'have', 'recur', 'know', 'load', 'carry', 'doubt', 'transport', 'suggest', 'remark', 'suspect', 'stock', 'bear', 'write', 'inquire', 'observe', 'answer', 'find', 'occur', 'infer', 'land', 'bring', 'consider', 'remain', 'discover', 'think', 'become', 'transport', 'call', 'observe', 'carry', 'retain', 'expose', 'carry', 'mean', 'suffice', 'mingle', 'remain', 'see', 'bring', 'bring', 'kill', 'endure', 'blow', 'transport', 'stick', 'fall', 'come', 'argue', 'stock', 'know', 'prove', 'receive', 'stock', 'stand', 'receive', 'doubt', 'transport', 'stock', 'fit', 'become', 'seem', 'effect', 'upheave', 'form', 'stock', 'live', 'chance', 'arrive', 'germinate', 'survive', 'separate', 'exist', 'know', 'live', 'migrate', 'see', 'live', 'hear', 'lead', 'conclude', 'create', 'remain', 'call', 'see', 'have', 'suffer', 'burn', 'tell', 'do', 'score', 'perch', 'fill', 'have', 'change', 'leave', 'clothe', 'score', 'drift', 'reveal', 'explain', 'follow', 'follow', 'suppose', 'come', 'pass', 'occur', 'come', 'fit', 'fit', 'supplant', 'take', 'stop', 'perish', 'become', 'cover', 'descend', 'reach', 'have', 'cover', 'stretch', 'cover', 'suppose', 'travel', 'round', 'suppose', 'come', 'make', 'return', 'retreat', 'follow', 'melt', 'seize', 'ascend', 'increase', 'pursue', 'return', 'live', 'leave', 'isolate', 'exterminate', 'understand', 'understand', 'live', 'come', 'return', 'remark', 'remark', 'ally', 'ground', 'ascertain', 'seem', 'explain', 'find', 'conclude', 'permit', 'become', 'believe', 'march', 'retreat', 'meet', 'intercalate', 'expose', 'notice', 'keep', 'inculcate', 'leave', 'isolate', 'return', 'leave', 'survive', 'mingle', 'exist', 'drive', 'expose', 'disturb', 'find', 'compare', 'rank', 'ally', 'illustrate', 'believe', 'take', 'assume', 'round', 'apply', 'ask', 'account', 'round', 'separate', 'live', 'separate', 'believe', 'surmount', 'look', 'have', 'believe', 'suppose', 'live', 'live', 'live', 'look', 'see', 'be', 'attribute', 'believe', 'allude', 'remain', 'subject', 'extend', 'infer', 'inhabit', 'begin', 'migrate', 'become', 'see', 'believe', 'modify', 'understand', 'consider', 'understand', 'remark', 'unite', 'serve', 'render', 'decrease', 'inhabit', 'migrate', 'cut', 'concern', 'take', 'migrate', 'mingle', 'have', 'compete', 'have', 'leave', 'come', 'compare', 'live', 'find', 'show', 'suppose', 'find', 'rank', 'rank', 'account', 'ally', 'live', 'sunder', 'think', 'understand', 'exist', 'ally', 'describe', 'separate', 'disjoin', 'say', 'create', 'compare', 'see', 'correspond', 'return', 'extend', 'have', 'infer', 'affect', 'leave', 'see', 'grow', 'have', 'find', 'separate', 'tell', 'publish', 'trust', 'have', 'look', 'observe', 'notice', 'extend', 'astonish', 'cross', 'feel', 'leave', 'exist', 'have', 'transport', 'know', 'have', 'include', 'have', 'endure', 'measure', 'come', 'cease', 'see', 'endure', 'seem', 'admit', 'admit', 'avoid', 'believe', 'suffice', 'throw', 'show', 'flower', 'form', 'be', 'ally', 'belong', 'occur', 'find', 'exist', 'intervene', 'find', 'belong', 'genera', 'occur', 'believe', 'introduce', 'find', 'discover', 'occur', 'represent', 'represent', 'find', 'intervene', 'collect', 'raise', 'make', 'represent', 'grow', 'hear', 'extend', 'scatter', 'discover', 'introduce', 'occur', 'give', 'inform', 'find', 'give', 'see', 'grow', 'relate', 'apply', 'give', 'occur', 'quote', 'speak', 'inform', 'find', 'observe', 'find', 'belong', 'remark', 'recede', 'become', 'live', 'rank', 'relate', 'rank', 'let', 'see', 'throw', 'forego', 'support', 'measure', 'remember', 'naturalise', 'spread', 'come', 'retreat', 'follow', 'concern', 'suffer', 'say', 'support', 'see', 'crowd', 'know', 'withstand', 'escape', 'escape', 'bear', 'suffer', 'migrate', 'place', 'suffer', 'protect', 'withstand', 'seem', 'bear', 'present', 'penetrate', 'reach', 'cross', 'favour', 'inform', 'afford', 'seem', 'afford', 'communicate', 'exist', 'lain', 'doubt', 'enter', 'cross', 'lowland', 'migrate', 'cover', 'believe', 'feel', 'suppose', 'clothe', 'mingle', 'grow', 'describe', 'believe', 'migrate', 'cross', 'return', 'ascend', 'exterminate', 'reach', 're', '-', 'cross', 'travel', 'have', 'believe', 'undergo', 'intrude', 'settle', 'surround', 'have', 'compete', 'select', 'profit', 'relate', 'exist', 'mark', 'insist', 'ally', 'migrate', 'see', 'suspect', 'exist', 'advance', 'dominate', 'commingle', 'enable', 'beat', 'see', 'cover', 'have', 'beat', 'naturalise', 'carry', 'import', 'occur', 'stock', 'have', 'yield', 'generate', 'equal', 'outnumber', 'naturalise', 'exterminate', 'reduce', 'isolate', 'believe', 'yield', 'produce', 'yield', 'naturalise', 'suppose', 'remove', 'give', 'ally', 'live', 'remain', 'solve', 'pretend', 'indicate', 'migrate', 'modify', 'give', 'remain', 'hope', 'explain', 'say', 'naturalise', 'range', 'say', 'remain', 'solve', 'state', 'discuss', 'say', 'regard', 'believe', 'suggest', 'belong', 'confine', 'suppose', 'seem', 'indicate', 'migrate', 'radiate', 'look', 'cover', 'support', 'suspect', 'exterminate', 'disperse', 'exist', 'sink', 'believe', 'tint', 'speculate', 'believe', 'feel', 'combine', 'ally', 'explain', 'live', 'say', 'flow', 'cross', 'flow', 'inundate', 'leave', 'rise', 'rise', 'have', 'leave', 'live', 'rise', 'lowland', 'leave', 'strand', 'compare', 'drive', 'survive', 'serve', 'surround']\n"
     ]
    }
   ],
   "source": [
    "print(\"Noun phrases:\", [chunk.text for chunk in text_obj.noun_chunks])\n",
    "print(\"Verbs:\", [token.lemma_ for token in text_obj if token.pos_ == \"VERB\"])"
   ]
  },
  {
   "cell_type": "code",
   "execution_count": null,
   "metadata": {},
   "outputs": [],
   "source": [
    "for token in text_obj:\n",
    "    print (type(token.text))\n",
    "    print(token.text)"
   ]
  },
  {
   "cell_type": "code",
   "execution_count": null,
   "metadata": {},
   "outputs": [],
   "source": [
    "words_all = [token.text for token in text_obj]"
   ]
  },
  {
   "cell_type": "markdown",
   "metadata": {},
   "source": [
    "input and output\n",
    "when shuffle:\n",
    "when predict:"
   ]
  },
  {
   "cell_type": "markdown",
   "metadata": {},
   "source": [
    "## 2. Word-by-word predictability"
   ]
  },
  {
   "cell_type": "code",
   "execution_count": null,
   "metadata": {},
   "outputs": [],
   "source": [
    "import torch\n",
    "from transformers import GPT2LMHeadModel, GPT2Tokenizer\n",
    "from tqdm import tqdm\n",
    "import pandas as pd\n",
    "import os\n"
   ]
  },
  {
   "cell_type": "code",
   "execution_count": null,
   "metadata": {},
   "outputs": [],
   "source": [
    "# Load to GPU\n",
    "device = 'cuda' if torch.cuda.is_available() else 'cpu'\n",
    "print(f'Device: {device}')\n",
    "\n",
    "# Load the GPT-2 model and tokenizer\n",
    "model_name = 'gpt2'  # or 'gpt2-medium', 'gpt2-large', etc.\n",
    "model = GPT2LMHeadModel.from_pretrained(model_name).to(device)\n",
    "tokenizer = GPT2Tokenizer.from_pretrained(model_name)\n",
    "\n",
    "# Set the model to evaluation mode\n",
    "model.eval()"
   ]
  },
  {
   "cell_type": "code",
   "execution_count": 7,
   "metadata": {},
   "outputs": [],
   "source": [
    "# read data\n",
    "file='Chapter4_100samples.csv'\n",
    "data = pd.read_csv(file)"
   ]
  },
  {
   "cell_type": "code",
   "execution_count": null,
   "metadata": {},
   "outputs": [],
   "source": [
    "def word_by_word_predictability(sample):\n",
    "    lexical_preds=[]\n",
    "    \n",
    "    encoded_sample=tokenizer.encode(sample['sample_shuffled'], return_tensors='pt').to(device)\n",
    "    encoded_sample_lst = encoded_sample.tolist()[0]\n",
    "    \n",
    "    for word_position, word in enumerate(encoded_sample_lst):\n",
    "        if word_position >= 64:\n",
    "   \n",
    "            for context_length in [1,2,4,8,16,32, 64]: #set the context length\n",
    "\n",
    "                context = encoded_sample[:, word_position - context_length:word_position]\n",
    "\n",
    "                # Generate predictions for the next word\n",
    "                with torch.no_grad():\n",
    "                    outputs = model(context)\n",
    "\n",
    "                # Extract the predicted logits for the next word\n",
    "                logits = outputs.logits[0, -1, :]\n",
    "\n",
    "                # Compute the probabilities using softmax\n",
    "                probabilities = torch.softmax(logits, dim=0)\n",
    "\n",
    "                # Compute the probabilities using softmax\n",
    "                preds = torch.softmax(outputs.logits, dim=-1)\n",
    "                next_word_prob = preds[:, -1, word].item()\n",
    "\n",
    "                lexical_preds.append({\n",
    "                    \"disorder_level\": sample['disorder_level'],\n",
    "                    \"text\": sample['sample_shuffled'],\n",
    "                    \"sample_id\": sample['sample_id'],\n",
    "                    \"word\": tokenizer.decode([word]),\n",
    "                    \"word_pos\": word_position,\n",
    "                    \"context_length\": context_length,\n",
    "                    \"context\": tokenizer.decode(context[0]),\n",
    "                    \"predictability\": next_word_prob\n",
    "                    })\n",
    "\n",
    "    \n",
    "    return lexical_preds\n",
    "    "
   ]
  },
  {
   "cell_type": "code",
   "execution_count": null,
   "metadata": {},
   "outputs": [],
   "source": [
    "# Compute predictability for all samples\n",
    "\n",
    "lexical=[]\n",
    "for level in data.disorder_level.unique():\n",
    "    preds = []\n",
    "\n",
    "    print(f\"Disorder level: {level}%\")\n",
    "    data_level = data[data['disorder_level'] == level]\n",
    "\n",
    "    for sample_id, sample in tqdm(data_level.iterrows(), total=len(data_level), leave=False, position=0):\n",
    "        # Get word-by-word predictability scores, varying context length for each word, for given sample\n",
    "        preds_sample = word_by_word_predictability(sample)\n",
    "        preds.extend(preds_sample)\n",
    "\n",
    "        # Clear memory before next loop\n",
    "        del preds_sample\n",
    "\n",
    "    # Convert data to DataFrame\n",
    "    preds = pd.DataFrame(preds)\n",
    "    \n",
    "    lexical.append(preds)\n",
    "    # Save preds\n",
    "    preds_file = f\"results_level{level}.csv\"\n",
    "    preds.to_csv(preds_file, index=False)\n"
   ]
  },
  {
   "cell_type": "markdown",
   "metadata": {},
   "source": [
    "## 3. Result analysis"
   ]
  },
  {
   "cell_type": "code",
   "execution_count": null,
   "metadata": {},
   "outputs": [],
   "source": [
    "import os\n",
    "import pandas as pd\n",
    "import numpy as np\n",
    "import seaborn as sns\n",
    "import matplotlib.pyplot as plt\n",
    "from scipy.optimize import curve_fit\n",
    "from scipy.integrate import quad"
   ]
  },
  {
   "cell_type": "code",
   "execution_count": 464,
   "metadata": {},
   "outputs": [],
   "source": [
    "# Read data\n",
    "def read_pred_files(files_path):\n",
    "    # Name the predictability results files start with\n",
    "\n",
    "    # Create list to append DataFrames to\n",
    "    dfs = []\n",
    "\n",
    "    # Select and read pickle files, convert to DataFrame\n",
    "    for file in os.listdir(files_path):\n",
    "        if file.startswith('results_level'):\n",
    "            dfs.append(pd.read_csv(os.path.join(files_path, file)))\n",
    "\n",
    "    # Concatenate data together and return\n",
    "    return pd.concat(dfs, axis=0, ignore_index=True)"
   ]
  },
  {
   "cell_type": "code",
   "execution_count": 162,
   "metadata": {},
   "outputs": [],
   "source": [
    "files_path = os.getcwd()\n",
    "df_preds = read_pred_files(files_path)"
   ]
  },
  {
   "cell_type": "markdown",
   "metadata": {},
   "source": [
    "### visualize overall data"
   ]
  },
  {
   "cell_type": "code",
   "execution_count": null,
   "metadata": {},
   "outputs": [],
   "source": [
    "# lineplot\n",
    "\n",
    "fig, ax = plt.subplots(layout='constrained', figsize=(7,5))\n",
    "sns.lineplot(ax=ax, data=df_preds, hue='disorder_level', x='context_length', y='predictability', errorbar='se', palette='muted')\n",
    "plt.xlabel('Context length')\n",
    "plt.ylabel('Lexical predictability')\n",
    "plt.title('Predictability under Context Length by Disorder Level')\n",
    "plt.legend([], [], frameon=False)\n",
    "fig.legend(loc='outside center right', title='Disorder level (%)')\n"
   ]
  },
  {
   "cell_type": "code",
   "execution_count": 215,
   "metadata": {},
   "outputs": [
    {
     "data": {
      "image/png": "[encoded data removed]",
      "text/plain": [
       "<Figure size 800x600 with 2 Axes>"
      ]
     },
     "metadata": {},
     "output_type": "display_data"
    }
   ],
   "source": [
    "# heatmap\n",
    "pivot_table = df_preds.pivot_table(values='predictability', index='context_length', columns='disorder_level')\n",
    "plt.figure(figsize=(8, 6))\n",
    "sns.heatmap(pivot_table, cmap='YlGnBu')\n",
    "plt.xlabel('Disorder Level')\n",
    "plt.ylabel('Context Length')\n",
    "plt.title('Predictability Heatmap')\n",
    "plt.show()"
   ]
  },
  {
   "cell_type": "markdown",
   "metadata": {},
   "source": [
    "### Model fit"
   ]
  },
  {
   "cell_type": "code",
   "execution_count": 300,
   "metadata": {},
   "outputs": [],
   "source": [
    "df_agg = df_preds.groupby(['disorder_level', 'context_length'])['predictability'].mean().reset_index()"
   ]
  },
  {
   "cell_type": "code",
   "execution_count": 280,
   "metadata": {},
   "outputs": [],
   "source": [
    "def fit(df, func):\n",
    "    params=[]\n",
    "    for level in df.disorder_level.unique():\n",
    "        df_level = df[df['disorder_level'] == level]\n",
    "        x = df_level['context_length'] \n",
    "        y = df_level['predictability']  \n",
    "        params_level, _ = curve_fit(func, x, y)\n",
    "\n",
    "        y_predicted = func(x, *params_level)\n",
    "        r_2 = 1 - (np.sum((y - y_predicted) ** 2) / np.sum((y - np.mean(y)) ** 2))\n",
    "\n",
    "        params.append({\n",
    "            'disorder_level': level,\n",
    "            'params': params_level,\n",
    "            'R_2': r_2\n",
    "        })\n",
    "        \n",
    "    return params"
   ]
  },
  {
   "cell_type": "code",
   "execution_count": 335,
   "metadata": {},
   "outputs": [],
   "source": [
    "def plot_fit(df, params,  func, save=False):\n",
    "    fig, axs = plt.subplots(2, 3, sharey=True, sharex=True, figsize=(25,10))\n",
    "    for i, level in enumerate(df.disorder_level.unique()):\n",
    "        df_level = df[df['disorder_level'] == level]\n",
    "        params_level = params[i]['params']\n",
    "\n",
    "        axs.ravel()[i].plot(df_level['context_length'], func(df_level['context_length'], *params_level), '--', color='red', label='Fitted')\n",
    "        axs.ravel()[i].plot(df_level['context_length'], df_level['predictability'], 'ro', color='blue', label='Measured')\n",
    "        axs.ravel()[i].set_title(f\"Disorder level: {level}% \\n ({', '.join(['='.join(map(str, i)) for i in zip(['a', 'b', 'c', 'd'], [f'{p:0.4f}' for p in params_level])])})\")\n",
    "        # Compute r2\n",
    "        r2 = params[i]['R_2']\n",
    "        axs.ravel()[i].text(0.1, 0.9, f\"R^2={r2:.2f}\", fontsize=20, transform=axs.ravel()[i].transAxes, va='top')\n",
    "\n",
    "    fig.supxlabel(\"Context length\")\n",
    "    fig.supylabel(\"Predictability\")\n",
    "\n",
    "    axs.ravel()[-1].legend()\n",
    "    plt.tight_layout()\n",
    "\n",
    "\n",
    "    if save:\n",
    "        plt.savefig(\"plot_fit.png\", dpi=600, bbox_inches='tight')\n",
    "        plt.close()\n",
    "    else:\n",
    "        plt.show()"
   ]
  },
  {
   "cell_type": "code",
   "execution_count": 474,
   "metadata": {},
   "outputs": [],
   "source": [
    "def plot_growth(df, func):\n",
    "    x=df['disorder_level']\n",
    "    y=df['growth']\n",
    "    \n",
    "    fit_params, _ = curve_fit(func, x, y, maxfev=2000)\n",
    "\n",
    "    y_predicted = func(x, *fit_params)\n",
    "    r_2 = 1 - (np.sum((y - y_predicted) ** 2) / np.sum((y - np.mean(y)) ** 2))\n",
    "\n",
    "    plt.plot(x, func(x, *fit_params), '--',\n",
    "                            label='Fitted')\n",
    "    plt.plot(x, y, 'ro', label=f'Measured')\n",
    "\n",
    "    plt.xlabel(\"Disorder level (%)\")\n",
    "    plt.ylabel(\"Integral\")\n",
    "    plt.xticks(ticks=x)\n",
    "    plt.text(0.7, 0.8, f\"R^2={r_2:.2f}\", fontsize=20, transform=plt.gca().transAxes, va='top')\n",
    "    plt.legend()\n",
    "    plt.title(\n",
    "        f\"{', '.join(['='.join(map(str, i)) for i in zip(['a', 'b', 'c'], [f'{p:0.4f}' for p in fit_params])])}\")\n",
    "    plt.show()"
   ]
  },
  {
   "cell_type": "markdown",
   "metadata": {},
   "source": [
    "#### linear_model"
   ]
  },
  {
   "cell_type": "code",
   "execution_count": 269,
   "metadata": {},
   "outputs": [],
   "source": [
    "def linear_func(x, a, b):\n",
    "    return a*x+b"
   ]
  },
  {
   "cell_type": "code",
   "execution_count": 332,
   "metadata": {},
   "outputs": [],
   "source": [
    "params_lin=fit(df_agg, linear_func)\n",
    "plot_fit(df_agg, params_lin, linear_func)"
   ]
  },
  {
   "cell_type": "markdown",
   "metadata": {},
   "source": [
    "#### log model"
   ]
  },
  {
   "cell_type": "code",
   "execution_count": 444,
   "metadata": {},
   "outputs": [],
   "source": [
    "# log fit\n",
    "def log_func(x, a, b, c):\n",
    "    return a * np.log(b*x+c)\n",
    "\n",
    "params_log=fit(df_agg, log_func)\n",
    "plot_fit(df_agg, params_log, log_func)"
   ]
  },
  {
   "cell_type": "code",
   "execution_count": 447,
   "metadata": {},
   "outputs": [],
   "source": [
    "# log integral\n",
    "def log_integral(x, a, b, c):\n",
    "    integrand = lambda x: a * np.log(b * x + c)\n",
    "    integral, error = quad(integrand, x[0], x[-1])\n",
    "    return integral\n",
    "    \n",
    "x=df_agg.context_length.sort_values().unique()\n",
    "for p in params_log:\n",
    "    a, b, c=p['params']\n",
    "    p['growth']=log_integral(x, a, b, c)\n",
    "    \n",
    "params_log=pd.DataFrame(params_log)\n",
    "plot_growth(params_log, exp_func)"
   ]
  },
  {
   "cell_type": "markdown",
   "metadata": {},
   "source": [
    "#### Exp_model"
   ]
  },
  {
   "cell_type": "code",
   "execution_count": null,
   "metadata": {},
   "outputs": [],
   "source": [
    "# exp_fit\n",
    "def exp_func(x, a, b, c):\n",
    "    return a*np.exp(-b*x) +c\n",
    "\n",
    "params_exp=fit(df_agg, exp_func)\n",
    "plot_fit(df_agg, params_exp, exp_func)"
   ]
  },
  {
   "cell_type": "code",
   "execution_count": 421,
   "metadata": {},
   "outputs": [],
   "source": [
    "# exp integral\n",
    "def exp_integral(x, a, b, c):\n",
    "    integrand = lambda x: a * np.exp(-b * x) + c\n",
    "    integral, error = quad(integrand, x[0], x[-1])\n",
    "    return integral\n",
    "\n",
    "x=df_agg.context_length.sort_values().unique()\n",
    "for p in params_exp:\n",
    "    # 0: a, 1: b, 2: c\n",
    "    # Integrate\n",
    "    a, b, c=p['params']\n",
    "    p['growth']=exp_integral(x, a, b, c)\n",
    "    \n",
    "params_exp=pd.DataFrame(params_exp)\n",
    "plot_growth(params_exp, exp_func)"
   ]
  }
 ],
 "metadata": {
  "kernelspec": {
   "display_name": "Python 3",
   "language": "python",
   "name": "python3"
  },
  "language_info": {
   "codemirror_mode": {
    "name": "ipython",
    "version": 3
   },
   "file_extension": ".py",
   "mimetype": "text/x-python",
   "name": "python",
   "nbconvert_exporter": "python",
   "pygments_lexer": "ipython3",
   "version": "3.12.3"
  }
 },
 "nbformat": 4,
 "nbformat_minor": 2
}
